{
 "cells": [
  {
   "cell_type": "code",
   "execution_count": 1,
   "metadata": {},
   "outputs": [],
   "source": [
    "from random import *\n",
    "from math import *\n",
    "from copy import *\n",
    "from statistics import mean \n",
    "from IPython.display import Image\n",
    "import cairocffi as cairo"
   ]
  },
  {
   "cell_type": "markdown",
   "metadata": {},
   "source": [
    "## Visualisation tools"
   ]
  },
  {
   "cell_type": "code",
   "execution_count": 175,
   "metadata": {},
   "outputs": [],
   "source": [
    "class viz_tools():\n",
    "    def draw_gannt(self, scheduler, filename, isDrawGrid = False):\n",
    "        WIDTH, HEIGHT = 800, 800\n",
    "        surface = cairo.ImageSurface(cairo.FORMAT_ARGB32, WIDTH, HEIGHT)\n",
    "        ctx = cairo.Context(surface)\n",
    "\n",
    "        ctx.scale(WIDTH, HEIGHT)  # Normalizing the canvas\n",
    "\n",
    "        ctx.rectangle(0, 0, 1, 1)  # Rectangle(x0, y0, width, height)\n",
    "        ctx.set_source_rgb(1, 1, 1)\n",
    "        ctx.fill()\n",
    "            \n",
    "        #Assign a random color each job\n",
    "        jobs_colors = {j_name : [random() for j in range(3)] for j_name in  scheduler.job_names()}\n",
    "        \n",
    "        max_time = 1.01*scheduler.make_span()\n",
    "        num_servs = scheduler.number_of_servers()\n",
    "        x_offset = 0.1\n",
    "        y_offset = 0.1\n",
    "        width_scaling = (1 - x_offset * 2) / max_time\n",
    "        height_scaling = (1 - y_offset * 2) / num_servs\n",
    "        \n",
    "        #Position each for each server\n",
    "        servers_pos = {scheduler.server_names()[i] : y_offset + i*height_scaling \n",
    "                       for i in range (scheduler.number_of_servers())}\n",
    "        \n",
    "        for t in scheduler.tasks:\n",
    "            j_name = t.job_name\n",
    "            t_time = t.end_time - t.start_time\n",
    "            for s in t.servers:\n",
    "                 # Rectangle(x0, y0, width, height)\n",
    "                ctx.rectangle(x_offset + t.start_time * width_scaling, servers_pos[s.name],\n",
    "                               width_scaling * t_time,  height_scaling)\n",
    "\n",
    "                ctx.set_source_rgb(jobs_colors[j_name][0], jobs_colors[j_name][1], jobs_colors[j_name][2])\n",
    "                ctx.fill()            \n",
    "\n",
    "        if (isDrawGrid):\n",
    "            for i in range(ceil(scheduler.make_span()) + 1):\n",
    "\n",
    "                    ctx.move_to(x_offset + i * width_scaling, y_offset)\n",
    "                    ctx.line_to(x_offset + i * width_scaling, 1 - y_offset)\n",
    "                    ctx.set_source_rgba(0, 0, 0, 0.9)  \n",
    "                    ctx.set_line_width(0.001)\n",
    "                    ctx.stroke()\n",
    "\n",
    "            for j in range(num_servs + 1):\n",
    "                ctx.move_to(x_offset , y_offset + j * height_scaling)\n",
    "                ctx.line_to(x_offset + max_time, y_offset + j * height_scaling)\n",
    "                ctx.set_source_rgba(0, 0, 0, 0.9)  \n",
    "                ctx.set_line_width(0.001)\n",
    "                ctx.stroke()\n",
    "        \n",
    "        #Label axis\n",
    "        ctx.set_source_rgb(0, 0, 0)\n",
    "        ctx.set_font_size(0.05)\n",
    "        ctx.move_to(0.8,0.97)\n",
    "        ctx.show_text(\"Time\")\n",
    "        ctx.move_to(0,0.07)\n",
    "        ctx.show_text(\"Servers\")\n",
    "        \n",
    "        surface.write_to_png(filename)  # Output to PNG"
   ]
  },
  {
   "cell_type": "markdown",
   "metadata": {},
   "source": [
    "## Objective:\n",
    "\n",
    "minimize(max $\\frac{t_{termination} - t_{submission}}{mass})$"
   ]
  },
  {
   "cell_type": "markdown",
   "metadata": {},
   "source": [
    "## Job class\n",
    "Initial parameters: <br>\n",
    "- name : unique id of the job<br>\n",
    "- sub_time: submission time<br>\n",
    "- alpha : speed up factor (can be thought of as the communication time), should be somewhere between 0.5 and 1\n",
    "- data: data to be processed, required for the reconfiguration time (see equation below)\n",
    "- mass: mass of computation : area if run with one server \n",
    "- min_num_servers : minimum number of servers required for the job to be run\n",
    "- max_num_servers : maximum number of servers the job should be run on\n",
    "<br>\n",
    "\n",
    "\n",
    "\n",
    "### Jobs and tasks\n",
    "A job is broken into smaller tasks that can be processed on a different amount of servers. The number of servers used will impact the processing time according to the equation shown below.\n",
    "\n",
    "\n",
    "### Processing time of a task\n",
    "$time = \\frac{mass}{(num\\_servers)^{alpha}}$<br>\n",
    "or<br>\n",
    "$mass= time \\times (num\\_servers)^{alpha}$\n",
    "\n",
    "\n",
    "### Reconfiguration time\n",
    "Time required to reconfigure the data if the number of servers is either increased or decreased. <br>\n",
    "if $n\\geq m$:<br>\n",
    "$T_{n\\rightarrow m} = \\frac{D}{n}(\\lceil \\frac{n}{m}\\rceil - 1)$<br>\n",
    "if $n\\leq m$:<br>\n",
    "$T_{n\\rightarrow m} = \\frac{D}{m}(\\lceil \\frac{m}{n}\\rceil - 1)$<br>\n",
    "\n",
    "where $D$ is the data amount in the application, $n$ number of servers in the previous process and $m$ the number of servers in the new process"
   ]
  },
  {
   "cell_type": "code",
   "execution_count": 2,
   "metadata": {},
   "outputs": [],
   "source": [
    "class Job():\n",
    "    def __init__(self, name, sub_time, alpha, data, mass, min_num_servers, max_num_servers):\n",
    "        self.name = name\n",
    "        self.sub_time = sub_time\n",
    "        self.alpha = alpha\n",
    "        self.data = data\n",
    "        self.mass = mass\n",
    "        self.min_num_servers = min_num_servers\n",
    "        self.max_num_servers = max_num_servers\n",
    "        \n",
    "    \n",
    "\n"
   ]
  },
  {
   "cell_type": "markdown",
   "metadata": {},
   "source": [
    "## Task class\n",
    "Initial parameters: <br>\n",
    "- job_name: The job to which the task belongs\n",
    "- start_time\n",
    "- end_time\n",
    "- mass_executed\n",
    "- servers : list of servers the task is executed on"
   ]
  },
  {
   "cell_type": "code",
   "execution_count": 124,
   "metadata": {},
   "outputs": [],
   "source": [
    "class Task(object):\n",
    "    def __init__(self, job_name, mass_executed, servers, start_time, end_time):\n",
    "        self.job_name = job_name\n",
    "        self.mass_executed = mass_executed\n",
    "        self.servers = servers\n",
    "        self.start_time = start_time\n",
    "        self.end_time = end_time\n",
    "\n",
    "class Reconfig(Task):\n",
    "    def __init__(self, job_name, servers, start_time, end_time):\n",
    "        self.mass_executed = 0\n",
    "        Task.__init__(self, job_name, self.mass_executed, servers, start_time, end_time)\n",
    "        "
   ]
  },
  {
   "cell_type": "markdown",
   "metadata": {},
   "source": [
    "## Server\n",
    "\n",
    "A server is a computation unit "
   ]
  },
  {
   "cell_type": "code",
   "execution_count": 125,
   "metadata": {},
   "outputs": [],
   "source": [
    "class Server(object):\n",
    "    def __init__(self, name):\n",
    "        self.name = name"
   ]
  },
  {
   "cell_type": "markdown",
   "metadata": {},
   "source": [
    "## Scheduler - state of whole thing\n",
    "\n",
    "Manager should be able to access objects and query.<br>\n"
   ]
  },
  {
   "cell_type": "code",
   "execution_count": 187,
   "metadata": {},
   "outputs": [],
   "source": [
    "class Schelduler(object):\n",
    "    def __init__(self, servers):        \n",
    "        self.servers = servers\n",
    "        self.jobs = []\n",
    "        self.tasks = []\n",
    "        self.job_queued = []\n",
    "        \n",
    "    def schedule(self,job):\n",
    "        self.jobs.append(job)\n",
    "        #schedule the first job into one task\n",
    "        if len(self.tasks) == 0:\n",
    "            #check the number of servers used to schedule the task\n",
    "            num_servers = job.max_num_servers if job.max_num_servers < len(self.servers) else len(self.servers)\n",
    "            #chooses servers from the list\n",
    "            servs = sample(self.servers, k = num_servers)\n",
    "            #find the execution time\n",
    "            exec_time = self._exec_time(job.mass, job.alpha, num_servers)\n",
    "            start_time = job.sub_time\n",
    "            end_time = job.sub_time + exec_time\n",
    "            mass_executed = job.mass\n",
    "            #add task to the list of tasks\n",
    "            self.tasks.append(Task(job.name, mass_executed, servs, start_time, end_time))\n",
    "        \n",
    "        #Schedule the jobs\n",
    "        else:\n",
    "            #Get the servers available at submission time\n",
    "            #TODO what to do if no server is available at subtime? probably add to queue\n",
    "            servs_available = self._available_servers(job.sub_time)\n",
    "            num_servs_available = len(servs_available)\n",
    "            if (num_servs_available<job.min_num_servers):\n",
    "                print('Not enough server available at submission time')\n",
    "                return\n",
    "            else:\n",
    "                num_servers = job.max_num_servers if job.max_num_servers < num_servs_available else num_servs_available\n",
    "                servs = sample(servs_available, k = num_servers)\n",
    "                exec_time = self._exec_time(job.mass, job.alpha, num_servers)\n",
    "                start_time = job.sub_time\n",
    "                end_time = job.sub_time + exec_time\n",
    "                mass_executed = job.mass\n",
    "                #add task to the list of tasks\n",
    "                self.tasks.append(Task(job.name, mass_executed, servs, start_time, end_time))\n",
    "            \n",
    "        return self.tasks\n",
    "    \n",
    "    def update_schedule(self, time):\n",
    "        #get the free servers\n",
    "        servs_available = self._available_servers(time)\n",
    "        num_servs_available = len(servs_available)\n",
    "        \n",
    "        #TODO: try to execute jobs that have been queued and update the free servers\n",
    "    \n",
    "        \n",
    "        \n",
    "        #find tasks that are still being executed\n",
    "        tasks_being_executed = list(filter(lambda t: (time<t.end_time and time > t.start_time), self.tasks))\n",
    "        \n",
    "        #find tasks that could be reconfigured\n",
    "        #List of tasks for which the possible change of the number of servers is greater than 0\n",
    "        tasks_candidates = list(filter(lambda t: self._task_possible_inc_num_ser(t, num_servs_available)>0,\n",
    "                                       self.tasks))\n",
    "        \n",
    "        #decide which task should be reconfigured\n",
    "        #TODO: how to decide? Right now take the first one in list \n",
    "        task_to_reconfig = tasks_candidates[0]\n",
    "        \n",
    "        job_of_task = self._job_of_task(task_to_reconfig)\n",
    "        #servers that will now be used\n",
    "        num_servs_extra = self._task_possible_inc_num_ser(task_to_reconfig, num_servs_available)\n",
    "        servers_to_use = [s for s in task_to_reconfig.servers]\n",
    "        for i in range(num_servs_extra):\n",
    "            servers_to_use.append(servs_available[i])\n",
    "        \n",
    "        \n",
    "        #reconfigure and update the task\n",
    "        #Update the task end_time and mass_executed.\n",
    "        task_to_reconfig.end_time = time\n",
    "        exec_time = task_to_reconfig.end_time - task_to_reconfig.start_time\n",
    "        task_to_reconfig.mass_executed = self._mass_exec(job_of_task.alpha, len(task_to_reconfig.servers), exec_time)\n",
    "        mass_left = job_of_task.mass - task_to_reconfig.mass_executed\n",
    "        \n",
    "        #Create a new task for reconfiguration       \n",
    "        reconfig_time = self._reconfig_time(job_of_task.data, len(task_to_reconfig.servers), len(servers_to_use))\n",
    "        reconfig_end_time = time + reconfig_time\n",
    "        reconfig_task = Reconfig(job_of_task.name, servers_to_use, time, reconfig_end_time)\n",
    "        self.tasks.append(reconfig_task)\n",
    "        #Create a task to finish job after reconfig\n",
    "        exec_time = self._exec_time(mass_left, job_of_task.alpha, len(servers_to_use))\n",
    "        start_time = reconfig_end_time\n",
    "        end_time = reconfig_end_time + exec_time\n",
    "        mass_executed = mass_left\n",
    "        #add task to the list of tasks\n",
    "        self.tasks.append(Task(job_of_task.name, mass_executed, servers_to_use, start_time, end_time))\n",
    "        \n",
    "        #TODO: decide whether to turn off a server and for how long\n",
    "    \n",
    "    #Returns the job that a task is executing\n",
    "    def _job_of_task(self, task):\n",
    "        return next(j for j in self.jobs if (j.name == task.job_name))\n",
    "    \n",
    "    # Returns the possible increase in the number of servers for a task given that num_servers are not busy\n",
    "    def _task_possible_inc_num_ser(self, task, num_servers):\n",
    "        #job = list(filter(lambda j: (j.name == task.job_name), self.jobs))[0]\n",
    "        job = next(j for j in self.jobs if (j.name == task.job_name))\n",
    "        task_num_servers = len(task.servers)\n",
    "        if(task_num_servers == job.max_num_servers):\n",
    "            return 0\n",
    "        elif (task_num_servers + num_servers > job.max_num_servers):\n",
    "            return job.max_num_servers - task_num_servers\n",
    "        else:\n",
    "            return  num_servers\n",
    "    \n",
    "    def _mass_exec(self, alpha, num_serv, exec_time):\n",
    "        return exec_time * (num_serv)**alpha\n",
    "    \n",
    "    def _exec_time(self, mass, alpha, num_serv):\n",
    "        return mass / (num_serv)**alpha\n",
    "    \n",
    "    # returns a list of servers not utilized at a given time\n",
    "    def _available_servers(self, time):\n",
    "        #Start with all servers as potential servers\n",
    "        candidate_servers = [s for s in servers]\n",
    "        #if no task has been schedule yet then all servers are valid candidates\n",
    "        if len(self.tasks) == 0:\n",
    "            return candidate_servers\n",
    "        #remove servers that are busy at the given time\n",
    "        for t in self.tasks:\n",
    "            for s in t.servers:\n",
    "                if self._is_server_in_list(s, candidate_servers):\n",
    "                    if time < t.end_time and time > t.start_time:\n",
    "                        candidate_servers.remove(s)          \n",
    "        return candidate_servers\n",
    "    \n",
    "    def _is_server_in_list(self, s1, ss):\n",
    "        for s in ss:\n",
    "            if self._compare_servers(s1,s):\n",
    "                return True\n",
    "        return False\n",
    "    \n",
    "    def _compare_servers(self, server1, server2):\n",
    "        if server1.name == server2.name:\n",
    "            return True\n",
    "        else:\n",
    "            return False\n",
    "    \n",
    "    #Calculates the reconfiguration time \n",
    "    def _reconfig_time(self, data, init_servers, final_servers):\n",
    "        if init_servers > final_servers:\n",
    "            return data / init_servers * (ceil(init_servers / final_servers)-1)\n",
    "        return data / final_servers * (ceil(final_servers / init_servers)-1)\n",
    "    def num_jobs(self):\n",
    "        return len(jobs)\n",
    "    \n",
    "    def make_span(self):\n",
    "        min_time = min([t.start_time for t in tasks])\n",
    "        max_time = max([t.end_time for t in tasks])\n",
    "        return max_time - min_time\n",
    "    \n",
    "    def number_of_servers(self):\n",
    "        return len(servers)\n",
    "    \n",
    "    def job_names(self):\n",
    "        return [j.name for j in self.jobs]\n",
    "    \n",
    "    def server_names(self):\n",
    "        return [s.name for s in self.servers]\n",
    "    \n",
    "    def print_tasks(self):\n",
    "        for t in self.tasks:\n",
    "            print ('Job name: {}; mass_exec: {}; servers: {}; start_time: {}; end_time: {}'.format(t.job_name, t.mass_executed,\n",
    "                                                                                        len(t.servers),t.start_time,t.end_time))\n",
    "    #TODO\n",
    "    def jobs_reconfigured(self):\n",
    "        return [] #array of jobs\n",
    "    \n",
    "    def num_jobs_reconfigured(self):\n",
    "        return len(self.jobs_reconfigured())\n",
    "    \n",
    "    #TODO\n",
    "    def stretch_time(self, job):\n",
    "        #find the termination time from the tasks of that job and subtime, divide the difference by the mass\n",
    "        return 0\n",
    "    \n",
    "    def stretch_times(self):\n",
    "        #array of all the stretch times\n",
    "        return [self.stretch_time(j) for j in jobs]\n",
    "    \n",
    "    def average_stretch_time(self):\n",
    "        return mean(self.stretch_times())\n",
    "    \n",
    "    def max_stretch_time(self):\n",
    "        return max(self.stretch_times())\n",
    "    \n",
    "    "
   ]
  },
  {
   "cell_type": "markdown",
   "metadata": {},
   "source": [
    "Instantiating the different jobs to be processed and servers"
   ]
  },
  {
   "cell_type": "code",
   "execution_count": 188,
   "metadata": {},
   "outputs": [],
   "source": [
    "job1 = Job('job1', sub_time = 0, alpha = 1, data = 1000, mass = 10, min_num_servers = 2, max_num_servers=3)\n",
    "job2 = Job('job2', sub_time = 1, alpha = 1, data = 5, mass = 20, min_num_servers = 1, max_num_servers=5)\n",
    "jobs = [job1, job2]\n",
    "#Sort jobs by submission time\n",
    "jobs = sorted(jobs, key=lambda k: k.sub_time) \n",
    "\n",
    "servers = [Server('server'+str(i)) for i in range(5)]"
   ]
  },
  {
   "cell_type": "code",
   "execution_count": 189,
   "metadata": {},
   "outputs": [],
   "source": [
    "scheduler = Schelduler(servers)"
   ]
  },
  {
   "cell_type": "code",
   "execution_count": 190,
   "metadata": {},
   "outputs": [],
   "source": [
    "tasks = scheduler.schedule(jobs[0])\n",
    "tasks = scheduler.schedule(jobs[1])"
   ]
  },
  {
   "cell_type": "code",
   "execution_count": 191,
   "metadata": {},
   "outputs": [
    {
     "name": "stdout",
     "output_type": "stream",
     "text": [
      "Job name: job1; mass_exec: 10; servers: 3; start_time: 0; end_time: 3.3333333333333335\n",
      "Job name: job2; mass_exec: 20; servers: 2; start_time: 1; end_time: 11.0\n"
     ]
    }
   ],
   "source": [
    "scheduler.print_tasks()"
   ]
  },
  {
   "cell_type": "code",
   "execution_count": 192,
   "metadata": {},
   "outputs": [],
   "source": [
    "scheduler.update_schedule(4)"
   ]
  },
  {
   "cell_type": "code",
   "execution_count": 193,
   "metadata": {},
   "outputs": [
    {
     "name": "stdout",
     "output_type": "stream",
     "text": [
      "Job name: job1; mass_exec: 10; servers: 3; start_time: 0; end_time: 3.3333333333333335\n",
      "Job name: job2; mass_exec: 6; servers: 2; start_time: 1; end_time: 4\n",
      "Job name: job2; mass_exec: 0; servers: 5; start_time: 4; end_time: 6.0\n",
      "Job name: job2; mass_exec: 14; servers: 5; start_time: 6.0; end_time: 8.8\n"
     ]
    }
   ],
   "source": [
    "scheduler.print_tasks()"
   ]
  },
  {
   "cell_type": "code",
   "execution_count": 194,
   "metadata": {},
   "outputs": [
    {
     "data": {
      "image/png": "[encoded data removed]",
      "text/plain": [
       "<IPython.core.display.Image object>"
      ]
     },
     "execution_count": 194,
     "metadata": {
      "image/png": {
       "height": 400,
       "width": 400
      }
     },
     "output_type": "execute_result"
    }
   ],
   "source": [
    "vz_tools = viz_tools()\n",
    "file_name = 'test.png'\n",
    "vz_tools.draw_gannt(scheduler, file_name, True)\n",
    "Image(filename = file_name, width=400, height=400)"
   ]
  },
  {
   "cell_type": "code",
   "execution_count": null,
   "metadata": {},
   "outputs": [],
   "source": []
  },
  {
   "cell_type": "code",
   "execution_count": null,
   "metadata": {},
   "outputs": [],
   "source": []
  },
  {
   "cell_type": "code",
   "execution_count": null,
   "metadata": {},
   "outputs": [],
   "source": []
  },
  {
   "cell_type": "code",
   "execution_count": null,
   "metadata": {},
   "outputs": [],
   "source": []
  },
  {
   "cell_type": "code",
   "execution_count": null,
   "metadata": {},
   "outputs": [],
   "source": []
  },
  {
   "cell_type": "code",
   "execution_count": null,
   "metadata": {},
   "outputs": [],
   "source": []
  }
 ],
 "metadata": {
  "kernelspec": {
   "display_name": "Python 3",
   "language": "python",
   "name": "python3"
  },
  "language_info": {
   "codemirror_mode": {
    "name": "ipython",
    "version": 3
   },
   "file_extension": ".py",
   "mimetype": "text/x-python",
   "name": "python",
   "nbconvert_exporter": "python",
   "pygments_lexer": "ipython3",
   "version": "3.7.4"
  }
 },
 "nbformat": 4,
 "nbformat_minor": 2
}
