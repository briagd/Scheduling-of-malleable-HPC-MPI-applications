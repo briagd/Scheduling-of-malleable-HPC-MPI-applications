{
 "cells": [
  {
   "cell_type": "code",
   "execution_count": 1,
   "metadata": {},
   "outputs": [],
   "source": [
    "from random import *\n",
    "from math import *\n",
    "from copy import *\n",
    "from IPython.display import Image\n",
    "import cairocffi as cairo\n"
   ]
  },
  {
   "cell_type": "markdown",
   "metadata": {},
   "source": [
    "## Improvements:\n",
    "time continuous"
   ]
  },
  {
   "cell_type": "markdown",
   "metadata": {},
   "source": [
    "## Job class\n",
    "Initial parameters: <br>\n",
    "- name : unique id of the job<br>\n",
    "- sub_time: submission time<br>\n",
    "- alpha : speed up factor (can be thought of as the communication time), should be somewhere between 0.5 and 1\n",
    "- D: data to be processed, required for the reconfiguration time (see equation below)\n",
    "- mass: mass of computation : area if run with one server \n",
    "- min_num_servers : minimum number of servers required for the job to be run\n",
    "- max_num_servers : maximum number of servers the job should be run on\n",
    "<br>\n",
    "\n",
    "Parameters updated as job is scheduled: \n",
    "- stretch = (termination time - submission time) / (termination time - start time), updated when the job is completed\n",
    "- mass_left : the mass of computation remaining to be computed, initially equal to the mass and should be equal to zero when job is completed\n",
    "- tasks: array of task object, initially empty\n",
    "- num_reconfig : number of reconfiguration required, initially 0\n",
    "- \n",
    "\n",
    "### Jobs and tasks\n",
    "A job is broken into smaller tasks that can be processed on a different amount of servers. The number of servers used will impact the processing time according to the equation shown below.\n",
    "\n",
    "\n",
    "### Processing time of a task\n",
    "$time = \\frac{mass}{(num\\_servers)^{alpha}}$\n",
    "\n",
    "\n",
    "### Reconfiguration time\n",
    "Time required to reconfigure the data if the number of servers is either increased or decreased. <br>\n",
    "if $n\\geq m$:<br>\n",
    "$T_{n\\rightarrow m} = \\frac{D}{n}(\\lceil \\frac{n}{m}\\rceil - 1)$<br>\n",
    "if $n\\leq m$:<br>\n",
    "$T_{n\\rightarrow m} = \\frac{D}{m}(\\lceil \\frac{m}{n}\\rceil - 1)$<br>\n",
    "\n",
    "where $D$ is the data amount in the application, $n$ number of servers in the previous process and $m$ the number of servers in the new process\n"
   ]
  },
  {
   "cell_type": "code",
   "execution_count": null,
   "metadata": {},
   "outputs": [],
   "source": [
    "class Job():\n",
    "    def __init__(self, name, required_rces, min_num_processors, max_num_processors):\n",
    "        self.name = name\n",
    "        self.required_rces = required_rces\t# Total area the job should occupy\n",
    "        self.min_num_processors = min_num_processors\n",
    "        self.max_num_processors = max_num_processors"
   ]
  },
  {
   "cell_type": "code",
   "execution_count": null,
   "metadata": {},
   "outputs": [],
   "source": []
  },
  {
   "cell_type": "code",
   "execution_count": null,
   "metadata": {},
   "outputs": [],
   "source": [
    "class Thread(object):\n",
    "    def __init__(self, name):\n",
    "        self.name = name\n",
    "\tself.tasks = []\t# Where we put the tasks to be executed\n",
    "        self.utilization_time = 0\n",
    "\n",
    "\n",
    "\n",
    "class Job():\n",
    "\tdef __init__(self, name, required_rces, min_num_processors, max_num_processors):\n",
    "\t\tself.name = name\n",
    "\t\tself.required_rces = required_rces\t# Total area the job should occupy\n",
    "\t\tself.min_num_processors = min_num_processors\n",
    "\t\tself.max_num_processors = max_num_processors\n",
    "\t\t\n",
    "\n",
    "class Task(object):\n",
    "    def __init__(self, job_name, exec_time, threads, start_time, end_time):\n",
    "        self.job_name = job_name\n",
    "        self.exec_time = exec_time\n",
    "        self.threads = threads\n",
    "        self.start_time = 0\n",
    "\tself.end_time = end_time\n",
    "\n",
    "    def schedule_at(self, start_time):\n",
    "        self.start_time = start_time"
   ]
  }
 ],
 "metadata": {
  "kernelspec": {
   "display_name": "Python 3",
   "language": "python",
   "name": "python3"
  },
  "language_info": {
   "codemirror_mode": {
    "name": "ipython",
    "version": 3
   },
   "file_extension": ".py",
   "mimetype": "text/x-python",
   "name": "python",
   "nbconvert_exporter": "python",
   "pygments_lexer": "ipython3",
   "version": "3.7.4"
  }
 },
 "nbformat": 4,
 "nbformat_minor": 2
}
