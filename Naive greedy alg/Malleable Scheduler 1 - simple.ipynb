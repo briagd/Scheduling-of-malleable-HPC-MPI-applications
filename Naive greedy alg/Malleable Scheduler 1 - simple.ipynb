{
 "cells": [
  {
   "cell_type": "code",
   "execution_count": 207,
   "metadata": {},
   "outputs": [],
   "source": [
    "import random\n",
    "from IPython.display import Image"
   ]
  },
  {
   "cell_type": "markdown",
   "metadata": {},
   "source": [
    "# Simple malleable scheduler \n",
    "\n",
    "Objective: Min makespan\n",
    "\n",
    "\n",
    "Variables: \n",
    "\n",
    "Constraints:\n",
    "- two jobs cannot be scheduled on the processor at the same time\n",
    "- A jobs can be reconfigured\n",
    "- quantum of time / time slot\n",
    "- number of processors at each time slot is fixed\n",
    "\n",
    "\n",
    "Assumptions:\n",
    "- No reconfiguration time\n",
    "- amount of resources required = number of processors x time\n",
    "- max amount of time required to \n",
    "\n",
    "\n",
    "Algorithm: Greedy largest task first\n",
    "- order the jobs from the largest to smallest in terms of resources\n",
    "- for all task t in tasks (starting with largest)\n",
    "- if t is smaller than first available timeslot:\n",
    "    add time slot number : t to task dict, subtract t to res of first time slot <br>\n",
    "  else if t is equal to the first available timeslot: add time slot number : t to task dict, remove time slot from list of available resources <br>\n",
    "  else if t is larger than he first available timeslot:<br>\n",
    "  add time slot number : res available at first time slot<br>\n",
    "  remove timeslot<br>\n",
    "  t_ = t - res available at first time slot <br>\n",
    "  while (t_>0):<br>\n",
    "  if t_ is smaller than first available timeslot:\n",
    "    add time slot number : t_ to task dict, subtract t_ to res of time slot, t_ = 0 <br>\n",
    "  else if t is equal to the first available timeslot: add time slot number : t_ to task dict, t_ = 0 , remove time slot from list of available resources <br>\n",
    "  else if t is largest to the first available timeslot: add time slot number : t_ to task dict, subtract  res of time slot to t_, t_ = 0 , remove time slot from list of available resources <br>\n",
    "\n",
    "\n",
    "In python:\n",
    "Input: \n",
    "- Task: $q$ total amount of resources required = number of processors x time, Dictionary : \n",
    "- available processors at each time slots: array \n",
    "\n",
    "Output:\n",
    " [amount of resources, start time , end time, for each t the number of resources]\n",
    "\n",
    "\n"
   ]
  },
  {
   "cell_type": "markdown",
   "metadata": {},
   "source": [
    "Initializing the resources available for computation"
   ]
  },
  {
   "cell_type": "code",
   "execution_count": 208,
   "metadata": {},
   "outputs": [],
   "source": [
    "# max number of processors available at each time slot\n",
    "max_num_proc = 5\n",
    "\n",
    "# res_av resources available at each timeslot\n",
    "#dictionary key:time slot and value:amount of resources available on that time slot\n",
    "res_av = [{'timeslot':i,'res' : max_num_proc} for i in range(1,10)]\n",
    "\n",
    "# res_used resources used at each timeslot\n",
    "#dictionary key:time slot and value:amount of resources available on that time slot\n",
    "#res_used = [{i : 0} for i in range(1,10)]"
   ]
  },
  {
   "cell_type": "markdown",
   "metadata": {},
   "source": [
    "Preparing the input"
   ]
  },
  {
   "cell_type": "code",
   "execution_count": 209,
   "metadata": {},
   "outputs": [],
   "source": [
    "# Defining 2 jobs, one requiring 7 resource blocks and another requiring 2 blocks\n",
    "job1 = {'name': 'task1', 'res_req':12}\n",
    "job2 = {'name': 'task2','res_req':2}\n",
    "job3 = {'name': 'task3', 'res_req':7}"
   ]
  },
  {
   "cell_type": "code",
   "execution_count": 210,
   "metadata": {},
   "outputs": [],
   "source": [
    "# putting all the jobs into one array\n",
    "jobs = [job2, job1, job3]\n",
    "\n",
    "# Sorting jobs from lowest res_req value to largest \n",
    "jobs = sorted(jobs, key=lambda k: k['res_req']) \n",
    "\n",
    "# reverse list order so that the jobs are ordered in decreasing res_req order\n",
    "jobs.reverse()"
   ]
  },
  {
   "cell_type": "code",
   "execution_count": 211,
   "metadata": {},
   "outputs": [
    {
     "data": {
      "text/plain": [
       "[{'name': 'task1', 'res_req': 12},\n",
       " {'name': 'task3', 'res_req': 7},\n",
       " {'name': 'task2', 'res_req': 2}]"
      ]
     },
     "execution_count": 211,
     "metadata": {},
     "output_type": "execute_result"
    }
   ],
   "source": [
    "jobs"
   ]
  },
  {
   "cell_type": "code",
   "execution_count": 212,
   "metadata": {},
   "outputs": [
    {
     "data": {
      "text/plain": [
       "[{'timeslot': 1, 'res': 5},\n",
       " {'timeslot': 2, 'res': 5},\n",
       " {'timeslot': 3, 'res': 5},\n",
       " {'timeslot': 4, 'res': 5},\n",
       " {'timeslot': 5, 'res': 5},\n",
       " {'timeslot': 6, 'res': 5},\n",
       " {'timeslot': 7, 'res': 5},\n",
       " {'timeslot': 8, 'res': 5},\n",
       " {'timeslot': 9, 'res': 5}]"
      ]
     },
     "execution_count": 212,
     "metadata": {},
     "output_type": "execute_result"
    }
   ],
   "source": [
    "res_av"
   ]
  },
  {
   "cell_type": "code",
   "execution_count": 213,
   "metadata": {},
   "outputs": [],
   "source": [
    "for job in jobs:\n",
    "    t = job['res_req']\n",
    "    \n",
    "    if t < res_av[0]['res']:\n",
    "        job[res_av[0]['timeslot']] = t\n",
    "        res_av[0]['res'] = res_av[0]['res'] - t\n",
    "    \n",
    "    elif t == res_av[0]['res']:\n",
    "        job[res_av[0]['timeslot']] = t\n",
    "        del res_av[0]\n",
    "    \n",
    "    else:\n",
    "        job[res_av[0]['timeslot']] = res_av[0]['res']\n",
    "        del res_av[0]\n",
    "        t_ = t - res_av[0]['res']\n",
    "        while (t_>0):\n",
    "            job[res_av[0]['timeslot']] = t_\n",
    "            if t_ < res_av[0]['res']:\n",
    "                res_av[0]['res'] = res_av[0]['res'] - t_\n",
    "                t_ = 0\n",
    "            elif t == res_av[0]['res']:    \n",
    "                del res_av[0]\n",
    "                t_ = 0\n",
    "            else:\n",
    "                t_ = t_ - res_av[0]['res']\n",
    "                del res_av[0]\n",
    "        \n",
    "if res_av[0]['res'] != max_num_proc:\n",
    "    make_span = res_av[0]['timeslot'] \n",
    "else:\n",
    "    make_span = res_av[0]['timeslot'] - 1"
   ]
  },
  {
   "cell_type": "code",
   "execution_count": 214,
   "metadata": {},
   "outputs": [
    {
     "data": {
      "text/plain": [
       "[{'name': 'task1', 'res_req': 12, 1: 5, 2: 7, 3: 2},\n",
       " {'name': 'task3', 'res_req': 7, 3: 3, 4: 2},\n",
       " {'name': 'task2', 'res_req': 2, 4: 2}]"
      ]
     },
     "execution_count": 214,
     "metadata": {},
     "output_type": "execute_result"
    }
   ],
   "source": [
    "jobs"
   ]
  },
  {
   "cell_type": "code",
   "execution_count": 215,
   "metadata": {},
   "outputs": [
    {
     "data": {
      "text/plain": [
       "[{'timeslot': 4, 'res': 1},\n",
       " {'timeslot': 5, 'res': 5},\n",
       " {'timeslot': 6, 'res': 5},\n",
       " {'timeslot': 7, 'res': 5},\n",
       " {'timeslot': 8, 'res': 5},\n",
       " {'timeslot': 9, 'res': 5}]"
      ]
     },
     "execution_count": 215,
     "metadata": {},
     "output_type": "execute_result"
    }
   ],
   "source": [
    "res_av"
   ]
  },
  {
   "cell_type": "code",
   "execution_count": 216,
   "metadata": {},
   "outputs": [
    {
     "data": {
      "text/plain": [
       "4"
      ]
     },
     "execution_count": 216,
     "metadata": {},
     "output_type": "execute_result"
    }
   ],
   "source": [
    "make_span"
   ]
  },
  {
   "cell_type": "code",
   "execution_count": 217,
   "metadata": {},
   "outputs": [],
   "source": [
    "import cairocffi as cairo"
   ]
  },
  {
   "cell_type": "code",
   "execution_count": 218,
   "metadata": {},
   "outputs": [
    {
     "data": {
      "image/png": "[encoded data removed]",
      "text/plain": [
       "<IPython.core.display.Image object>"
      ]
     },
     "execution_count": 218,
     "metadata": {
      "image/png": {
       "height": 200,
       "width": 200
      }
     },
     "output_type": "execute_result"
    }
   ],
   "source": [
    "WIDTH, HEIGHT = 256, 256\n",
    "\n",
    "surface = cairo.ImageSurface(cairo.FORMAT_ARGB32, WIDTH, HEIGHT)\n",
    "ctx = cairo.Context(surface)\n",
    "\n",
    "ctx.scale(WIDTH, HEIGHT)  # Normalizing the canvas\n",
    "\n",
    "ctx.rectangle(0, 0, 1, 1)  # Rectangle(x0, y0, width, height)\n",
    "ctx.set_source_rgb(1, 1, 1)\n",
    "ctx.fill()\n",
    "\n",
    "\n",
    "\n",
    "jobs_colors = [[ random.random() for j in range(3)] for i in range (len(jobs))]\n",
    "\n",
    "res_used = [0 for i in range(0 , make_span)]\n",
    "x_offset = 0.1\n",
    "y_offset = 0.1\n",
    "rect_width = (1 - x_offset * 2) / make_span\n",
    "rect_height = (1 - y_offset * 2) / max_num_proc\n",
    "\n",
    "for i in range(make_span):\n",
    "    for j in range(len(jobs)):\n",
    "        if i + 1 in jobs[j]:\n",
    "\n",
    "            ctx.rectangle(x_offset + i * rect_width, 1 - (y_offset + (res_used[i] + jobs[j][i+1] ) * rect_height),\n",
    "                           rect_width,  jobs[j][i+1] * rect_height)\n",
    "            res_used[i] = res_used[i] + jobs[j][i+1]\n",
    "            ctx.set_source_rgb(jobs_colors[j][0], jobs_colors[j][1], jobs_colors[j][2])\n",
    "            ctx.fill()\n",
    "\n",
    "\n",
    "for i in range(make_span + 1):\n",
    "    \n",
    "        ctx.move_to(x_offset + i * rect_width, y_offset)\n",
    "        ctx.line_to(x_offset + i * rect_width, 1 - y_offset)\n",
    "        ctx.set_source_rgba(0, 0, 0, 0.9)  \n",
    "        ctx.set_line_width(0.01)\n",
    "        ctx.stroke()\n",
    "\n",
    "for j in range(max_num_proc + 1):\n",
    "    ctx.move_to(x_offset , y_offset + j * rect_height)\n",
    "    ctx.line_to(1 - x_offset, y_offset + j * rect_height)\n",
    "    ctx.set_source_rgba(0, 0, 0, 0.9)  \n",
    "    ctx.set_line_width(0.01)\n",
    "    ctx.stroke()\n",
    "        \n",
    "surface.write_to_png(\"example.png\")  # Output to PNG\n",
    "Image(filename = \"example.png\", width=200, height=200)"
   ]
  },
  {
   "cell_type": "code",
   "execution_count": null,
   "metadata": {},
   "outputs": [],
   "source": []
  },
  {
   "cell_type": "code",
   "execution_count": null,
   "metadata": {},
   "outputs": [],
   "source": []
  },
  {
   "cell_type": "code",
   "execution_count": null,
   "metadata": {},
   "outputs": [],
   "source": []
  },
  {
   "cell_type": "code",
   "execution_count": null,
   "metadata": {},
   "outputs": [],
   "source": []
  }
 ],
 "metadata": {
  "kernelspec": {
   "display_name": "Python 3",
   "language": "python",
   "name": "python3"
  },
  "language_info": {
   "codemirror_mode": {
    "name": "ipython",
    "version": 3
   },
   "file_extension": ".py",
   "mimetype": "text/x-python",
   "name": "python",
   "nbconvert_exporter": "python",
   "pygments_lexer": "ipython3",
   "version": "3.7.4"
  }
 },
 "nbformat": 4,
 "nbformat_minor": 2
}
