{
 "cells": [
  {
   "cell_type": "code",
   "execution_count": 749,
   "metadata": {},
   "outputs": [],
   "source": [
    "from random import *\n",
    "from math import *\n",
    "from copy import *\n",
    "from IPython.display import Image"
   ]
  },
  {
   "cell_type": "markdown",
   "metadata": {},
   "source": [
    "# Simple malleable scheduler \n",
    "\n",
    "Objective: Min makespan \n",
    "\n",
    "Constraints:\n",
    "- two jobs cannot be scheduled on the processor at the same time\n",
    "- A jobs can be reconfigured\n",
    "- quantum of time / time slot\n",
    "- number of processors at each time slot is fixed\n",
    "\n",
    "### 1. Algorithm: Greedy largest task first\n",
    "\n",
    "Assumptions:\n",
    "- No reconfiguration time\n",
    "- amount of resources required = number of processors x time\n",
    "- max amount of time required to \n",
    "\n",
    "\n",
    "Algorithm:\n",
    "- order the jobs from the largest to smallest in terms of resources\n",
    "- for all task t in tasks (starting with largest)\n",
    "- if t is smaller than first available timeslot:\n",
    "    add time slot number : t to task dict, subtract t to res of first time slot <br>\n",
    "  else if t is equal to the first available timeslot: add time slot number : t to task dict, remove time slot from list of available resources <br>\n",
    "  else if t is larger than he first available timeslot:<br>\n",
    "  add time slot number : res available at first time slot<br>\n",
    "  remove timeslot<br>\n",
    "  t_ = t - res available at first time slot <br>\n",
    "  while (t_>0):<br>\n",
    "  if t_ is smaller than first available timeslot:\n",
    "    add time slot number : t_ to task dict, subtract t_ to res of time slot, t_ = 0 <br>\n",
    "  else if t is equal to the first available timeslot: add time slot number : t_ to task dict, t_ = 0 , remove time slot from list of available resources <br>\n",
    "  else if t is largest to the first available timeslot: add time slot number : t_ to task dict, subtract  res of time slot to t_, t_ = 0 , remove time slot from list of available resources <br>\n",
    "\n",
    "\n",
    "In python:\n",
    "Input: \n",
    "- Task: $q$ total amount of resources required = number of processors x time, Dictionary : \n",
    "- available processors at each time slots: array \n",
    "\n",
    "Output:\n",
    " [amount of resources, start time , end time, for each t the number of resources]\n",
    "\n",
    "\n"
   ]
  },
  {
   "cell_type": "markdown",
   "metadata": {},
   "source": [
    "Initializing the resources available for computation"
   ]
  },
  {
   "cell_type": "code",
   "execution_count": 750,
   "metadata": {},
   "outputs": [
    {
     "data": {
      "text/plain": [
       "[{'timeslot': 1, 'res': 5},\n",
       " {'timeslot': 2, 'res': 5},\n",
       " {'timeslot': 3, 'res': 5},\n",
       " {'timeslot': 4, 'res': 5},\n",
       " {'timeslot': 5, 'res': 5},\n",
       " {'timeslot': 6, 'res': 5},\n",
       " {'timeslot': 7, 'res': 5},\n",
       " {'timeslot': 8, 'res': 5},\n",
       " {'timeslot': 9, 'res': 5},\n",
       " {'timeslot': 10, 'res': 5},\n",
       " {'timeslot': 11, 'res': 5},\n",
       " {'timeslot': 12, 'res': 5},\n",
       " {'timeslot': 13, 'res': 5},\n",
       " {'timeslot': 14, 'res': 5},\n",
       " {'timeslot': 15, 'res': 5},\n",
       " {'timeslot': 16, 'res': 5},\n",
       " {'timeslot': 17, 'res': 5},\n",
       " {'timeslot': 18, 'res': 5},\n",
       " {'timeslot': 19, 'res': 5}]"
      ]
     },
     "execution_count": 750,
     "metadata": {},
     "output_type": "execute_result"
    }
   ],
   "source": [
    "# max number of processors available at each time slot\n",
    "max_num_proc = 5\n",
    "\n",
    "# res_av resources available at each timeslot\n",
    "#dictionary key:time slot and value:amount of resources available on that time slot\n",
    "res_av = [{'timeslot':i,'res' : max_num_proc} for i in range(1,20)]\n",
    "res_av"
   ]
  },
  {
   "cell_type": "markdown",
   "metadata": {},
   "source": [
    "Preparing the input"
   ]
  },
  {
   "cell_type": "code",
   "execution_count": 751,
   "metadata": {},
   "outputs": [],
   "source": [
    "# Defining 2 jobs, one requiring 7 resource blocks and another requiring 2 blocks\n",
    "job1 = {'name': 'task1', 'res_req':27}\n",
    "job2 = {'name': 'task2','res_req':5}\n",
    "job3 = {'name': 'task3', 'res_req':13}\n",
    "job4 = {'name': 'task4', 'res_req':15}\n",
    "# putting all the jobs into one array\n",
    "jobs = [job2, job1, job3, job4]\n",
    "\n",
    "# Sorting jobs from lowest res_req value to largest \n",
    "jobs = sorted(jobs, key=lambda k: k['res_req']) \n",
    "\n",
    "# reverse list order so that the jobs are ordered in decreasing res_req order\n",
    "jobs.reverse()"
   ]
  },
  {
   "cell_type": "code",
   "execution_count": 752,
   "metadata": {},
   "outputs": [
    {
     "data": {
      "text/plain": [
       "[{'name': 'task1', 'res_req': 27},\n",
       " {'name': 'task4', 'res_req': 15},\n",
       " {'name': 'task3', 'res_req': 13},\n",
       " {'name': 'task2', 'res_req': 5}]"
      ]
     },
     "execution_count": 752,
     "metadata": {},
     "output_type": "execute_result"
    }
   ],
   "source": [
    "jobs"
   ]
  },
  {
   "cell_type": "code",
   "execution_count": 753,
   "metadata": {},
   "outputs": [],
   "source": [
    "def greedy_sched(jobs, res_av):\n",
    "    res_av_left = deepcopy(res_av)\n",
    "    jobs_ = deepcopy(jobs)\n",
    "    for job in jobs_:\n",
    "        t = job['res_req']\n",
    "\n",
    "        if t < res_av_left[0]['res']:\n",
    "            job[res_av_left[0]['timeslot']] = t\n",
    "            res_av_left[0]['res'] = res_av_left[0]['res'] - t\n",
    "\n",
    "        elif t == res_av_left[0]['res']:\n",
    "            job[res_av_left[0]['timeslot']] = t\n",
    "            del res_av_left[0]\n",
    "\n",
    "        else:\n",
    "            job[res_av_left[0]['timeslot']] = res_av_left[0]['res']\n",
    "\n",
    "            t_ = t - res_av_left[0]['res']\n",
    "            del res_av_left[0]\n",
    "            while (t_>0):        \n",
    "                if t_ < res_av_left[0]['res']:\n",
    "                    job[res_av_left[0]['timeslot']] = t_\n",
    "                    res_av_left[0]['res'] = res_av_left[0]['res'] - t_\n",
    "                    t_ = 0\n",
    "                elif t_ == res_av_left[0]['res']:\n",
    "                    job[res_av_left[0]['timeslot']] = res_av_left[0]['res']\n",
    "                    del res_av_left[0]\n",
    "                    t_ = 0\n",
    "                else:\n",
    "                    job[res_av_left[0]['timeslot']] = res_av_left[0]['res']\n",
    "                    t_ = t_ - res_av_left[0]['res']\n",
    "                    del res_av_left[0]\n",
    "\n",
    "    if res_av_left[0]['res'] != max_num_proc:\n",
    "        make_span = res_av_left[0]['timeslot'] \n",
    "    else:\n",
    "        make_span = res_av_left[0]['timeslot'] - 1\n",
    "    \n",
    "    return jobs_, res_av_left, make_span"
   ]
  },
  {
   "cell_type": "code",
   "execution_count": 754,
   "metadata": {},
   "outputs": [],
   "source": [
    "sched_jobs, res_av_left, make_span = greedy_sched(jobs, res_av)"
   ]
  },
  {
   "cell_type": "code",
   "execution_count": 755,
   "metadata": {},
   "outputs": [
    {
     "data": {
      "text/plain": [
       "[{'name': 'task1', 'res_req': 27},\n",
       " {'name': 'task4', 'res_req': 15},\n",
       " {'name': 'task3', 'res_req': 13},\n",
       " {'name': 'task2', 'res_req': 5}]"
      ]
     },
     "execution_count": 755,
     "metadata": {},
     "output_type": "execute_result"
    }
   ],
   "source": [
    "jobs\n"
   ]
  },
  {
   "cell_type": "code",
   "execution_count": 756,
   "metadata": {},
   "outputs": [
    {
     "data": {
      "text/plain": [
       "[{'name': 'task1', 'res_req': 27, 1: 5, 2: 5, 3: 5, 4: 5, 5: 5, 6: 2},\n",
       " {'name': 'task4', 'res_req': 15, 6: 3, 7: 5, 8: 5, 9: 2},\n",
       " {'name': 'task3', 'res_req': 13, 9: 3, 10: 5, 11: 5},\n",
       " {'name': 'task2', 'res_req': 5, 12: 5}]"
      ]
     },
     "execution_count": 756,
     "metadata": {},
     "output_type": "execute_result"
    }
   ],
   "source": [
    "sched_jobs"
   ]
  },
  {
   "cell_type": "code",
   "execution_count": 757,
   "metadata": {},
   "outputs": [
    {
     "data": {
      "text/plain": [
       "[{'timeslot': 13, 'res': 5},\n",
       " {'timeslot': 14, 'res': 5},\n",
       " {'timeslot': 15, 'res': 5},\n",
       " {'timeslot': 16, 'res': 5},\n",
       " {'timeslot': 17, 'res': 5},\n",
       " {'timeslot': 18, 'res': 5},\n",
       " {'timeslot': 19, 'res': 5}]"
      ]
     },
     "execution_count": 757,
     "metadata": {},
     "output_type": "execute_result"
    }
   ],
   "source": [
    "res_av_left"
   ]
  },
  {
   "cell_type": "code",
   "execution_count": 758,
   "metadata": {},
   "outputs": [
    {
     "data": {
      "text/plain": [
       "12"
      ]
     },
     "execution_count": 758,
     "metadata": {},
     "output_type": "execute_result"
    }
   ],
   "source": [
    "make_span"
   ]
  },
  {
   "cell_type": "code",
   "execution_count": 759,
   "metadata": {},
   "outputs": [],
   "source": [
    "import cairocffi as cairo"
   ]
  },
  {
   "cell_type": "code",
   "execution_count": 762,
   "metadata": {},
   "outputs": [],
   "source": [
    "def gant_chart(jobs, make_span, max_num_proc, filename, isDrawGrid = False):\n",
    "    WIDTH, HEIGHT = 800, 400\n",
    "    surface = cairo.ImageSurface(cairo.FORMAT_ARGB32, WIDTH, HEIGHT)\n",
    "    ctx = cairo.Context(surface)\n",
    "\n",
    "    ctx.scale(WIDTH, HEIGHT)  # Normalizing the canvas\n",
    "\n",
    "    ctx.rectangle(0, 0, 1, 1)  # Rectangle(x0, y0, width, height)\n",
    "    ctx.set_source_rgb(1, 1, 1)\n",
    "    ctx.fill()\n",
    "\n",
    "\n",
    "\n",
    "    jobs_colors = [[ random() for j in range(3)] for i in range (len(jobs))]\n",
    "\n",
    "    res_used = [0 for i in range(0 , make_span)]\n",
    "    x_offset = 0.1\n",
    "    y_offset = 0.1\n",
    "    rect_width = (1 - x_offset * 2) / make_span\n",
    "    rect_height = (1 - y_offset * 2) / max_num_proc\n",
    "\n",
    "    for i in range(make_span):\n",
    "        for j in range(len(jobs)):\n",
    "            if i + 1 in jobs[j]:\n",
    "\n",
    "                ctx.rectangle(x_offset + i * rect_width, 1 - (y_offset + (res_used[i] + jobs[j][i+1] ) * rect_height),\n",
    "                               rect_width,  jobs[j][i+1] * rect_height)\n",
    "                res_used[i] = res_used[i] + jobs[j][i+1]\n",
    "                ctx.set_source_rgb(jobs_colors[j][0], jobs_colors[j][1], jobs_colors[j][2])\n",
    "                ctx.fill()\n",
    "    \n",
    "    if (isDrawGrid):\n",
    "        for i in range(make_span + 1):\n",
    "\n",
    "                ctx.move_to(x_offset + i * rect_width, y_offset)\n",
    "                ctx.line_to(x_offset + i * rect_width, 1 - y_offset)\n",
    "                ctx.set_source_rgba(0, 0, 0, 0.9)  \n",
    "                ctx.set_line_width(0.001)\n",
    "                ctx.stroke()\n",
    "\n",
    "        for j in range(max_num_proc + 1):\n",
    "            ctx.move_to(x_offset , y_offset + j * rect_height)\n",
    "            ctx.line_to(1 - x_offset, y_offset + j * rect_height)\n",
    "            ctx.set_source_rgba(0, 0, 0, 0.9)  \n",
    "            ctx.set_line_width(0.001)\n",
    "            ctx.stroke()\n",
    "\n",
    "    surface.write_to_png(filename)  # Output to PNG"
   ]
  },
  {
   "cell_type": "code",
   "execution_count": 763,
   "metadata": {},
   "outputs": [
    {
     "data": {
      "image/png": "[encoded data removed]",
      "text/plain": [
       "<IPython.core.display.Image object>"
      ]
     },
     "execution_count": 763,
     "metadata": {
      "image/png": {
       "height": 200,
       "width": 400
      }
     },
     "output_type": "execute_result"
    }
   ],
   "source": [
    "file_name = \"simplegreedy1.png\"\n",
    "gant_chart(sched_jobs, make_span, max_num_proc, file_name, True)\n",
    "Image(filename = file_name, width=400, height=200)"
   ]
  },
  {
   "cell_type": "code",
   "execution_count": 764,
   "metadata": {},
   "outputs": [
    {
     "data": {
      "text/plain": [
       "[{'name': 'task1', 'res_req': 27, 1: 5, 2: 5, 3: 5, 4: 5, 5: 5, 6: 2},\n",
       " {'name': 'task4', 'res_req': 15, 6: 3, 7: 5, 8: 5, 9: 2},\n",
       " {'name': 'task3', 'res_req': 13, 9: 3, 10: 5, 11: 5},\n",
       " {'name': 'task2', 'res_req': 5, 12: 5}]"
      ]
     },
     "execution_count": 764,
     "metadata": {},
     "output_type": "execute_result"
    }
   ],
   "source": [
    "sched_jobs"
   ]
  },
  {
   "cell_type": "markdown",
   "metadata": {},
   "source": [
    "#### an example with a much larger number of jobs"
   ]
  },
  {
   "cell_type": "code",
   "execution_count": 767,
   "metadata": {},
   "outputs": [],
   "source": [
    "# max number of processors available at each time slot\n",
    "max_num_proc = 5\n",
    "\n",
    "estimated_max_makespan = 10000\n",
    "# res_av resources available at each timeslot\n",
    "#dictionary key:time slot and value:amount of resources available on that time slot\n",
    "res_av = [{'timeslot':i,'res' : max_num_proc} for i in range(1,estimated_max_makespan)]\n",
    "\n",
    "seed(4)\n",
    "# putting all the jobs into one array\n",
    "jobs = [{'name' : 'task'+str(i), 'res_req' : randint(2, 40)} for i in range(20)]\n",
    "\n",
    "# Sorting jobs from lowest res_req value to largest \n",
    "jobs = sorted(jobs, key=lambda k: k['res_req']) \n",
    "\n",
    "# reverse list order so that the jobs are ordered in decreasing res_req order\n",
    "jobs.reverse()"
   ]
  },
  {
   "cell_type": "code",
   "execution_count": 768,
   "metadata": {},
   "outputs": [
    {
     "data": {
      "text/plain": [
       "12"
      ]
     },
     "execution_count": 768,
     "metadata": {},
     "output_type": "execute_result"
    }
   ],
   "source": [
    "make_span"
   ]
  },
  {
   "cell_type": "code",
   "execution_count": null,
   "metadata": {},
   "outputs": [],
   "source": []
  },
  {
   "cell_type": "code",
   "execution_count": 769,
   "metadata": {},
   "outputs": [
    {
     "data": {
      "image/png": "[encoded data removed]",
      "text/plain": [
       "<IPython.core.display.Image object>"
      ]
     },
     "execution_count": 769,
     "metadata": {
      "image/png": {
       "height": 200,
       "width": 800
      }
     },
     "output_type": "execute_result"
    }
   ],
   "source": [
    "sched_jobs, res_av_left, make_span = greedy_sched(jobs, res_av)\n",
    "file_name = \"simplegreedy1large.png\"\n",
    "gant_chart(sched_jobs, make_span, max_num_proc, file_name)\n",
    "Image(filename = file_name, width=800, height=200)"
   ]
  },
  {
   "cell_type": "markdown",
   "metadata": {},
   "source": [
    "### 2. Adding min and max number processors needed for a job\n",
    "\n",
    "change the algorithm from starting with the largest res_req to starting with the job with the largest maximum number of processors max_proc and largest min_req"
   ]
  },
  {
   "cell_type": "code",
   "execution_count": 770,
   "metadata": {},
   "outputs": [],
   "source": [
    "# Defining 2 jobs, one requiring 7 resource blocks and another requiring 2 blocks\n",
    "job1 = {'name': 'task1', 'res_req':2, 'min_proc': 2, 'max_proc': 5}\n",
    "job2 = {'name': 'task2','res_req':27, 'min_proc': 3, 'max_proc': 5}\n",
    "job3 = {'name': 'task3', 'res_req':14, 'min_proc': 2, 'max_proc': 3}\n",
    "job4 = {'name': 'task4', 'res_req':5, 'min_proc': 3, 'max_proc': 3}\n",
    "job5 = {'name': 'task5', 'res_req':6, 'min_proc': 1, 'max_proc': 2}\n",
    "job6 = {'name': 'task6', 'res_req':1, 'min_proc': 1, 'max_proc': 1}\n",
    "# putting all the jobs into one array\n",
    "jobs = [job2, job1, job3, job4, job5, job6]\n",
    "\n",
    "# Sorting jobs from lowest res_req value to largest \n",
    "jobs = sorted(jobs, key=lambda k: (k['max_proc'], k['min_proc'])) \n",
    "\n",
    "# reverse list order so that the jobs are ordered in decreasing res_req order\n",
    "jobs.reverse()"
   ]
  },
  {
   "cell_type": "code",
   "execution_count": 772,
   "metadata": {},
   "outputs": [
    {
     "data": {
      "text/plain": [
       "[{'name': 'task2', 'res_req': 27, 'min_proc': 3, 'max_proc': 5},\n",
       " {'name': 'task1', 'res_req': 2, 'min_proc': 2, 'max_proc': 5},\n",
       " {'name': 'task4', 'res_req': 5, 'min_proc': 3, 'max_proc': 3},\n",
       " {'name': 'task3', 'res_req': 14, 'min_proc': 2, 'max_proc': 3},\n",
       " {'name': 'task5', 'res_req': 6, 'min_proc': 1, 'max_proc': 2},\n",
       " {'name': 'task6', 'res_req': 1, 'min_proc': 1, 'max_proc': 1}]"
      ]
     },
     "execution_count": 772,
     "metadata": {},
     "output_type": "execute_result"
    }
   ],
   "source": [
    "jobs"
   ]
  },
  {
   "cell_type": "code",
   "execution_count": 773,
   "metadata": {},
   "outputs": [],
   "source": [
    "# max number of processors available at each time slot\n",
    "max_num_proc = 5\n",
    "estimated_max_makespan = 100\n",
    "# res_av resources available at each timeslot\n",
    "#dictionary key:time slot and value:amount of resources available on that time slot\n",
    "res_av = [{'timeslot':i,'res' : max_num_proc} for i in range(1,estimated_max_makespan)]"
   ]
  },
  {
   "cell_type": "code",
   "execution_count": 774,
   "metadata": {},
   "outputs": [],
   "source": [
    "def max_sub(proc_avail, max_in, min_in):\n",
    "    if proc_avail >= max_in:\n",
    "        proc = max_in\n",
    "    else:\n",
    "        proc = proc_avail\n",
    "    \n",
    "    return proc"
   ]
  },
  {
   "cell_type": "code",
   "execution_count": 775,
   "metadata": {},
   "outputs": [],
   "source": [
    "def greedy_sched_minmaxproc(jobs, res_av):\n",
    "    res_av_left = deepcopy(res_av)\n",
    "    jobs_ = deepcopy(jobs)\n",
    "    \n",
    "    for job in jobs_:\n",
    "        start_timeslot = 0\n",
    "        #1) Find possible starting timeslot\n",
    "        \n",
    "              \n",
    "        t = job['res_req']\n",
    "        \n",
    "        while (t>0):\n",
    "        # Find first time slot with available min_proc available \n",
    "            #check if timeslot is sufficiently large \n",
    "            if res_av_left[start_timeslot]['res']<job['min_proc']:\n",
    "                start_timeslot = start_timeslot + 1\n",
    "                continue\n",
    "                \n",
    "            t = job['res_req']\n",
    "\n",
    "            #check successor of the current candidate starting timeslot\n",
    "            for j in range(start_timeslot,len(res_av_left)):      \n",
    "                # check if the timeslot is a successor of the previous timeslot selected, if not break for loop\n",
    "                if j!=start_timeslot and res_av_left[j]['timeslot'] != res_av_left[j-1]['timeslot'] +1:\n",
    "                    start_timeslot = j\n",
    "                    break\n",
    "                #check if timeslot has the min number of proc\n",
    "                if res_av_left[j]['res']<job['min_proc']:\n",
    "                    start_timeslot = j + 1\n",
    "                    break\n",
    "                \n",
    "                #if suitable then subtract the time\n",
    "\n",
    "                t = t - max_sub(res_av_left[j]['res'], job['max_proc'], job['min_proc'])\n",
    "                if t <=0:\n",
    "                    break\n",
    "\n",
    "        \n",
    "        t = job['res_req']\n",
    "\n",
    "        if t < max_sub(res_av_left[start_timeslot]['res'], job['max_proc'], job['min_proc']):\n",
    "            job[res_av_left[start_timeslot]['timeslot']] = t\n",
    "            res_av_left[start_timeslot]['res'] = res_av_left[start_timeslot]['res'] - t\n",
    "            if res_av_left[start_timeslot]['res'] == 0:\n",
    "                del res_av_left[start_timeslot]\n",
    "        elif t == max_sub(res_av_left[j]['res'], job['max_proc'], job['min_proc']):\n",
    "            job[res_av_left[start_timeslot]['timeslot']] = t\n",
    "            res_av_left[start_timeslot]['res'] = res_av_left[start_timeslot]['res'] - t\n",
    "            if res_av_left[start_timeslot]['res'] == 0:\n",
    "                del res_av_left[start_timeslot]\n",
    "\n",
    "        else:\n",
    "            job[res_av_left[start_timeslot]['timeslot']] = max_sub(res_av_left[start_timeslot]['res'], job['max_proc'], job['min_proc'])\n",
    "\n",
    "            t_ = t - max_sub(res_av_left[start_timeslot]['res'], job['max_proc'], job['min_proc'])\n",
    "            res_av_left[start_timeslot]['res'] = res_av_left[start_timeslot]['res'] - max_sub(res_av_left[start_timeslot]['res'], job['max_proc'], job['min_proc'])\n",
    "            if res_av_left[start_timeslot]['res'] == 0:\n",
    "                del res_av_left[start_timeslot]\n",
    "            else:\n",
    "                start_timeslot = start_timeslot + 1\n",
    "            while (t_>0):        \n",
    "                if t_ < max_sub(res_av_left[start_timeslot]['res'], job['max_proc'], job['min_proc']):\n",
    "                    job[res_av_left[start_timeslot]['timeslot']] = t_\n",
    "                    res_av_left[start_timeslot]['res'] = res_av_left[start_timeslot]['res'] - t_\n",
    "                    t_ = 0\n",
    "\n",
    "                else:\n",
    "                    job[res_av_left[start_timeslot]['timeslot']] = max_sub(res_av_left[start_timeslot]['res'], job['max_proc'], job['min_proc'])\n",
    "                    t_ = t_ - max_sub(res_av_left[start_timeslot]['res'], job['max_proc'], job['min_proc'])\n",
    "                    res_av_left[start_timeslot]['res'] = res_av_left[start_timeslot]['res'] - max_sub(res_av_left[start_timeslot]['res'], job['max_proc'], job['min_proc'])\n",
    "                    if res_av_left[start_timeslot]['res'] == 0:\n",
    "                        del res_av_left[start_timeslot]\n",
    "                    else:\n",
    "                        start_timeslot = start_timeslot + 1\n",
    "\n",
    "\n",
    "    for r in res_av_left:\n",
    "        if r['res'] == 5:\n",
    "            make_span = r['timeslot'] - 1\n",
    "            break\n",
    "    \n",
    "    return jobs_, res_av_left, make_span"
   ]
  },
  {
   "cell_type": "code",
   "execution_count": 776,
   "metadata": {},
   "outputs": [
    {
     "data": {
      "image/png": "[encoded data removed]",
      "text/plain": [
       "<IPython.core.display.Image object>"
      ]
     },
     "execution_count": 776,
     "metadata": {
      "image/png": {
       "height": 200,
       "width": 800
      }
     },
     "output_type": "execute_result"
    }
   ],
   "source": [
    "sched_jobs, res_av_left, make_span = greedy_sched_minmaxproc(jobs, res_av)\n",
    "\n",
    "file_name = \"greedy_sched_minmaxproc.png\"\n",
    "gant_chart(sched_jobs, make_span, max_num_proc, file_name, True)\n",
    "Image(filename = file_name, width=800, height=200)"
   ]
  },
  {
   "cell_type": "code",
   "execution_count": 777,
   "metadata": {},
   "outputs": [
    {
     "data": {
      "text/plain": [
       "11"
      ]
     },
     "execution_count": 777,
     "metadata": {},
     "output_type": "execute_result"
    }
   ],
   "source": [
    "make_span"
   ]
  },
  {
   "cell_type": "code",
   "execution_count": 778,
   "metadata": {},
   "outputs": [
    {
     "data": {
      "text/plain": [
       "[{'name': 'task2', 'res_req': 27, 'min_proc': 3, 'max_proc': 5},\n",
       " {'name': 'task1', 'res_req': 2, 'min_proc': 2, 'max_proc': 5},\n",
       " {'name': 'task4', 'res_req': 5, 'min_proc': 3, 'max_proc': 3},\n",
       " {'name': 'task3', 'res_req': 14, 'min_proc': 2, 'max_proc': 3},\n",
       " {'name': 'task5', 'res_req': 6, 'min_proc': 1, 'max_proc': 2},\n",
       " {'name': 'task6', 'res_req': 1, 'min_proc': 1, 'max_proc': 1}]"
      ]
     },
     "execution_count": 778,
     "metadata": {},
     "output_type": "execute_result"
    }
   ],
   "source": [
    "jobs"
   ]
  },
  {
   "cell_type": "code",
   "execution_count": 779,
   "metadata": {},
   "outputs": [
    {
     "data": {
      "text/plain": [
       "[{'name': 'task2',\n",
       "  'res_req': 27,\n",
       "  'min_proc': 3,\n",
       "  'max_proc': 5,\n",
       "  1: 5,\n",
       "  2: 5,\n",
       "  3: 5,\n",
       "  4: 5,\n",
       "  5: 5,\n",
       "  6: 2},\n",
       " {'name': 'task1', 'res_req': 2, 'min_proc': 2, 'max_proc': 5, 6: 2},\n",
       " {'name': 'task4', 'res_req': 5, 'min_proc': 3, 'max_proc': 3, 7: 3, 8: 2},\n",
       " {'name': 'task3',\n",
       "  'res_req': 14,\n",
       "  'min_proc': 2,\n",
       "  'max_proc': 3,\n",
       "  7: 2,\n",
       "  8: 3,\n",
       "  9: 3,\n",
       "  10: 3,\n",
       "  11: 3},\n",
       " {'name': 'task5',\n",
       "  'res_req': 6,\n",
       "  'min_proc': 1,\n",
       "  'max_proc': 2,\n",
       "  9: 2,\n",
       "  10: 2,\n",
       "  11: 2},\n",
       " {'name': 'task6', 'res_req': 1, 'min_proc': 1, 'max_proc': 1, 6: 1}]"
      ]
     },
     "execution_count": 779,
     "metadata": {},
     "output_type": "execute_result"
    }
   ],
   "source": [
    "sched_jobs"
   ]
  },
  {
   "cell_type": "code",
   "execution_count": 780,
   "metadata": {},
   "outputs": [],
   "source": [
    "# max number of processors available at each time slot\n",
    "max_num_proc = 5\n",
    "\n",
    "estimated_max_makespan = 10000\n",
    "# res_av resources available at each timeslot\n",
    "#dictionary key:time slot and value:amount of resources available on that time slot\n",
    "res_av = [{'timeslot':i,'res' : max_num_proc} for i in range(1,estimated_max_makespan)]\n",
    "\n",
    "seed(4)\n",
    "# putting all the jobs into one array\n",
    "jobs = []\n",
    "for i in range(20):\n",
    "    r = randint(1,20)\n",
    "    mini = randint(1,5)\n",
    "    maxi = randint(mini,5)\n",
    "    job = {'name': 'task'+str(i), 'res_req':r, 'min_proc': mini, 'max_proc': maxi}\n",
    "    jobs.append(job)\n",
    "\n",
    "# Sorting jobs from lowest res_req value to largest \n",
    "jobs = sorted(jobs, key=lambda k: (k['max_proc'], k['min_proc'])) \n",
    "\n",
    "# reverse list order so that the jobs are ordered in decreasing res_req order\n",
    "jobs.reverse()\n",
    "# Sorting jobs from lowest res_req value to largest \n",
    "jobs = sorted(jobs, key=lambda k: k['res_req']) \n",
    "\n",
    "# reverse list order so that the jobs are ordered in decreasing res_req order\n",
    "jobs.reverse()\n",
    "\n"
   ]
  },
  {
   "cell_type": "code",
   "execution_count": 781,
   "metadata": {},
   "outputs": [
    {
     "data": {
      "text/plain": [
       "[{'name': 'task16', 'res_req': 20, 'min_proc': 3, 'max_proc': 4},\n",
       " {'name': 'task14', 'res_req': 19, 'min_proc': 3, 'max_proc': 5},\n",
       " {'name': 'task17', 'res_req': 15, 'min_proc': 2, 'max_proc': 3},\n",
       " {'name': 'task1', 'res_req': 13, 'min_proc': 4, 'max_proc': 4},\n",
       " {'name': 'task3', 'res_req': 13, 'min_proc': 5, 'max_proc': 5},\n",
       " {'name': 'task9', 'res_req': 12, 'min_proc': 1, 'max_proc': 5},\n",
       " {'name': 'task10', 'res_req': 11, 'min_proc': 4, 'max_proc': 4},\n",
       " {'name': 'task13', 'res_req': 10, 'min_proc': 1, 'max_proc': 3},\n",
       " {'name': 'task18', 'res_req': 10, 'min_proc': 3, 'max_proc': 3},\n",
       " {'name': 'task5', 'res_req': 9, 'min_proc': 2, 'max_proc': 2},\n",
       " {'name': 'task6', 'res_req': 9, 'min_proc': 2, 'max_proc': 2},\n",
       " {'name': 'task7', 'res_req': 9, 'min_proc': 3, 'max_proc': 3},\n",
       " {'name': 'task12', 'res_req': 9, 'min_proc': 1, 'max_proc': 5},\n",
       " {'name': 'task0', 'res_req': 8, 'min_proc': 3, 'max_proc': 3},\n",
       " {'name': 'task15', 'res_req': 7, 'min_proc': 4, 'max_proc': 5},\n",
       " {'name': 'task8', 'res_req': 6, 'min_proc': 3, 'max_proc': 4},\n",
       " {'name': 'task11', 'res_req': 6, 'min_proc': 2, 'max_proc': 5},\n",
       " {'name': 'task2', 'res_req': 3, 'min_proc': 1, 'max_proc': 1},\n",
       " {'name': 'task19', 'res_req': 3, 'min_proc': 1, 'max_proc': 4},\n",
       " {'name': 'task4', 'res_req': 2, 'min_proc': 2, 'max_proc': 4}]"
      ]
     },
     "execution_count": 781,
     "metadata": {},
     "output_type": "execute_result"
    }
   ],
   "source": [
    "jobs"
   ]
  },
  {
   "cell_type": "code",
   "execution_count": 782,
   "metadata": {},
   "outputs": [
    {
     "data": {
      "image/png": "[encoded data removed]",
      "text/plain": [
       "<IPython.core.display.Image object>"
      ]
     },
     "execution_count": 782,
     "metadata": {
      "image/png": {
       "height": 200,
       "width": 800
      }
     },
     "output_type": "execute_result"
    }
   ],
   "source": [
    "sched_jobs, res_av_left, make_span = greedy_sched_minmaxproc(jobs, res_av)\n",
    "\n",
    "file_name = \"greedy_sched_minmaxproc.png\"\n",
    "gant_chart(sched_jobs, make_span, max_num_proc, file_name, True)\n",
    "Image(filename = file_name, width=800, height=200)"
   ]
  },
  {
   "cell_type": "code",
   "execution_count": null,
   "metadata": {},
   "outputs": [],
   "source": []
  },
  {
   "cell_type": "markdown",
   "metadata": {},
   "source": [
    "### 3. Add reconfiguration time\n",
    "if $n\\geq m$:<br>\n",
    "$T_{n\\rightarrow m} = \\frac{D}{n}(\\lceil \\frac{n}{m}\\rceil - 1)$<br>\n",
    "if $n\\leq m$:<br>\n",
    "$T_{n\\rightarrow m} = \\frac{D}{m}(\\lceil \\frac{m}{n}\\rceil - 1)$<br>\n",
    "\n",
    "where $D$ is the data amount in the application, $n$ number of nodes in the previous process and $m$ the number of nodes in the new process"
   ]
  },
  {
   "cell_type": "code",
   "execution_count": null,
   "metadata": {},
   "outputs": [],
   "source": [
    "def reconfig_time(init_nodes, final_nodes, data_amount):\n",
    "    if final_nodes == 0:\n",
    "        return 0\n",
    "    if init_nodes > final_nodes:\n",
    "        return data_amount / init_nodes * (ceil(init_nodes / final_nodes)-1)\n",
    "    return data_amount / final_nodes * (ceil(final_nodes / init_nodes)-1)"
   ]
  },
  {
   "cell_type": "code",
   "execution_count": null,
   "metadata": {},
   "outputs": [],
   "source": [
    "reconfig_time(5,1,100)"
   ]
  },
  {
   "cell_type": "code",
   "execution_count": null,
   "metadata": {},
   "outputs": [],
   "source": [
    "#TODO modify alg\n",
    "def greedy_sched_reconfig(jobs, res_av):\n",
    "    res_av_left = deepcopy(res_av)\n",
    "    jobs_ = deepcopy(jobs)\n",
    "    for job in jobs_:\n",
    "        t = job['res_req']\n",
    "\n",
    "        if t < res_av_left[0]['res']:\n",
    "            job[res_av_left[0]['timeslot']] = t\n",
    "            res_av_left[0]['res'] = res_av_left[0]['res'] - t\n",
    "\n",
    "        elif t == res_av_left[0]['res']:\n",
    "            job[res_av_left[0]['timeslot']] = t\n",
    "            del res_av_left[0]\n",
    "\n",
    "        else:\n",
    "            job[res_av_left[0]['timeslot']] = res_av_left[0]['res']\n",
    "\n",
    "            t_ = t - res_av_left[0]['res']\n",
    "            del res_av_left[0]\n",
    "            while (t_>0):        \n",
    "                if t_ < res_av_left[0]['res']:\n",
    "                    job[res_av_left[0]['timeslot']] = t_\n",
    "                    res_av_left[0]['res'] = res_av_left[0]['res'] - t_\n",
    "                    t_ = 0\n",
    "                elif t == res_av_left[0]['res']:\n",
    "                    job[res_av_left[0]['timeslot']] = t_\n",
    "                    del res_av_left[0]\n",
    "                    t_ = 0\n",
    "                else:\n",
    "                    job[res_av_left[0]['timeslot']] = res_av_left[0]['res']\n",
    "                    t_ = t_ - res_av_left[0]['res']\n",
    "                    del res_av_left[0]\n",
    "\n",
    "    if res_av_left[0]['res'] != max_num_proc:\n",
    "        make_span = res_av_left[0]['timeslot'] \n",
    "    else:\n",
    "        make_span = res_av_left[0]['timeslot'] - 1\n",
    "    \n",
    "    return jobs_, res_av_left, make_span"
   ]
  }
 ],
 "metadata": {
  "kernelspec": {
   "display_name": "Python 3",
   "language": "python",
   "name": "python3"
  },
  "language_info": {
   "codemirror_mode": {
    "name": "ipython",
    "version": 3
   },
   "file_extension": ".py",
   "mimetype": "text/x-python",
   "name": "python",
   "nbconvert_exporter": "python",
   "pygments_lexer": "ipython3",
   "version": "3.7.4"
  }
 },
 "nbformat": 4,
 "nbformat_minor": 2
}
