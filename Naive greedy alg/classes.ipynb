{
 "cells": [
  {
   "cell_type": "code",
   "execution_count": 1,
   "metadata": {},
   "outputs": [],
   "source": [
    "from random import *\n",
    "from math import *\n",
    "from copy import *\n",
    "from IPython.display import Image\n",
    "import cairocffi as cairo\n"
   ]
  },
  {
   "cell_type": "markdown",
   "metadata": {},
   "source": [
    "## Improvements:\n",
    "time continuous"
   ]
  },
  {
   "cell_type": "markdown",
   "metadata": {},
   "source": [
    "## Job class\n",
    "Initial parameters: <br>\n",
    "- name : unique id of the job<br>\n",
    "- sub_time: submission time<br>\n",
    "- alpha : speed up factor (can be thought of as the communication time), should be somewhere between 0.5 and 1\n",
    "- data: data to be processed, required for the reconfiguration time (see equation below)\n",
    "- mass: mass of computation : area if run with one server \n",
    "- min_num_servers : minimum number of servers required for the job to be run\n",
    "- max_num_servers : maximum number of servers the job should be run on\n",
    "<br>\n",
    "\n",
    "Parameters updated as job is scheduled: \n",
    "- tasks: array of task object, initially empty\n",
    "\n",
    "\n",
    "### Jobs and tasks\n",
    "A job is broken into smaller tasks that can be processed on a different amount of servers. The number of servers used will impact the processing time according to the equation shown below.\n",
    "\n",
    "\n",
    "### Processing time of a task\n",
    "$time = \\frac{mass}{(num\\_servers)^{alpha}}$<br>\n",
    "or<br>\n",
    "$mass= time \\times (num\\_servers)^{alpha}$\n",
    "\n",
    "\n",
    "### Reconfiguration time\n",
    "Time required to reconfigure the data if the number of servers is either increased or decreased. <br>\n",
    "if $n\\geq m$:<br>\n",
    "$T_{n\\rightarrow m} = \\frac{D}{n}(\\lceil \\frac{n}{m}\\rceil - 1)$<br>\n",
    "if $n\\leq m$:<br>\n",
    "$T_{n\\rightarrow m} = \\frac{D}{m}(\\lceil \\frac{m}{n}\\rceil - 1)$<br>\n",
    "\n",
    "where $D$ is the data amount in the application, $n$ number of servers in the previous process and $m$ the number of servers in the new process\n"
   ]
  },
  {
   "cell_type": "code",
   "execution_count": null,
   "metadata": {},
   "outputs": [],
   "source": [
    "class Job():\n",
    "    def __init__(self, name, sub_time, alpha, data, mass, min_num_servers, max_num_servers):\n",
    "        self.name = name\n",
    "        self.sub_time = sub_time\n",
    "        self.alpha = alpha\n",
    "        self.data = data\n",
    "        self.mass = mass\n",
    "        self.min_num_servers = min_num_servers\n",
    "        self.max_num_servers = max_num_servers\n",
    "        self.tasks = []\n",
    "    \n",
    "    #Calculates the reconfiguration time \n",
    "    def reconfig_time(self, init_servers, final_servers):\n",
    "    if init_servers > final_servers:\n",
    "        return self.data / init_servers * (ceil(init_servers / final_servers)-1)\n",
    "    return self.data / final_servers * (ceil(final_servers / init_servers)-1)\n",
    "\n",
    "    def add_task(self, task):\n",
    "        self.tasks.append(task)"
   ]
  },
  {
   "cell_type": "markdown",
   "metadata": {},
   "source": [
    "## Task class\n",
    "Initial parameters: <br>\n",
    "- job_name: The job to which the task belongs\n",
    "- start_time\n",
    "- end_time\n",
    "- mass_executed\n",
    "- servers : list of servers the task is executed on\n"
   ]
  },
  {
   "cell_type": "code",
   "execution_count": 3,
   "metadata": {},
   "outputs": [],
   "source": [
    "class Task(object):\n",
    "    def __init__(self, job_name, mass_executed, servers, start_time, end_time):\n",
    "        self.job_name = job_name\n",
    "        self.mass_executed = mass_executed\n",
    "        self.servers = servers\n",
    "        self.start_time = start_time\n",
    "        self.end_time = end_time\n",
    "\n",
    "    def schedule_at(self, start_time):\n",
    "        self.start_time = start_time\n",
    "        \n",
    "        \n",
    "class Reconfig(Task):\n",
    "    def __init__(self, job_name, servers, start_time, end_time):\n",
    "        Task.__init__(self, job_name, mass_executed, servers, start_time, end_time)\n",
    "        self.mass_executed = 0"
   ]
  },
  {
   "cell_type": "markdown",
   "metadata": {},
   "source": [
    "## Server\n",
    "\n",
    "A server is a computation unit "
   ]
  },
  {
   "cell_type": "code",
   "execution_count": 6,
   "metadata": {},
   "outputs": [],
   "source": [
    "class Server(object):\n",
    "    def __init__(self, name):\n",
    "        self.name = name"
   ]
  },
  {
   "cell_type": "markdown",
   "metadata": {},
   "source": [
    "## Scheduler - state of whole thing\n",
    "Manager should be able to access objects and query.\n"
   ]
  },
  {
   "cell_type": "code",
   "execution_count": 8,
   "metadata": {},
   "outputs": [],
   "source": [
    "class Schelduler(object):\n",
    "    def __init__(self, servers):\n",
    "        self.jobs = []\n",
    "        self.servers = servers\n",
    "    \n",
    "    def schedule(self,job):\n",
    "        return 0\n",
    "    \n",
    "    def _is_server_busy(self, server, time):\n",
    "        return False\n",
    "    \n",
    "    def num_reconfig(self):\n",
    "        return 0\n",
    "    \n",
    "    def is_job_completed(self, job):\n",
    "        return False\n",
    "    \n",
    "    def jobs_reconfigured(self, jobs):\n",
    "        return [] #array of jobs\n",
    "    \n",
    "    def draw_gannt(self, jobs, servers):\n",
    "        return 0\n",
    "    "
   ]
  },
  {
   "cell_type": "code",
   "execution_count": null,
   "metadata": {},
   "outputs": [],
   "source": [
    "# Example of how the jobs would be scheduled\n",
    "jobs = [job1, job2]\n",
    "for job in jobs:\n",
    "    sched.schedule(job)"
   ]
  },
  {
   "cell_type": "markdown",
   "metadata": {},
   "source": []
  },
  {
   "cell_type": "code",
   "execution_count": 9,
   "metadata": {},
   "outputs": [],
   "source": []
  },
  {
   "cell_type": "code",
   "execution_count": null,
   "metadata": {},
   "outputs": [],
   "source": []
  }
 ],
 "metadata": {
  "kernelspec": {
   "display_name": "Python 3",
   "language": "python",
   "name": "python3"
  },
  "language_info": {
   "codemirror_mode": {
    "name": "ipython",
    "version": 3
   },
   "file_extension": ".py",
   "mimetype": "text/x-python",
   "name": "python",
   "nbconvert_exporter": "python",
   "pygments_lexer": "ipython3",
   "version": "3.7.4"
  }
 },
 "nbformat": 4,
 "nbformat_minor": 2
}
